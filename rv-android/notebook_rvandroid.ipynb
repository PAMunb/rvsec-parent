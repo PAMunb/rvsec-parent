{
 "cells": [
  {
   "cell_type": "markdown",
   "id": "af6a0943",
   "metadata": {},
   "source": [
    "# RV-ANDROID playground"
   ]
  },
  {
   "cell_type": "markdown",
   "id": "f49fbd44",
   "metadata": {},
   "source": [
    "# Config"
   ]
  },
  {
   "cell_type": "markdown",
   "id": "b46507fe",
   "metadata": {},
   "source": [
    "## Local\n",
    "\n",
    "`sudo apt install python3.12-dev nvidia-cuda-toolkit bitsandbytes triton`\n",
    "\n",
    "```\n",
    "nvidia-smi\n",
    "nvcc --version\n",
    "``` "
   ]
  },
  {
   "cell_type": "markdown",
   "id": "c3114d77",
   "metadata": {},
   "source": [
    "## Google colab"
   ]
  },
  {
   "cell_type": "code",
   "execution_count": null,
   "id": "e8843518",
   "metadata": {},
   "outputs": [],
   "source": [
    "!pip install -q gradio diffusers transformers accelerate torch Pillow\n",
    "\n",
    "#datasets"
   ]
  },
  {
   "cell_type": "code",
   "execution_count": null,
   "id": "814de015",
   "metadata": {},
   "outputs": [],
   "source": [
    "# Clone RVSec\n",
    "from google.colab import userdata, drive\n",
    "\n",
    "!rm -Rf sample_data/\n",
    "\n",
    "#https://github.com/ad17171717/YouTube-Tutorials/blob/main/Google%20Colab%20Tutorials/Google_Colab_%2B_Git_Pushing_Changes_to_a_GitHub_Repo!.ipynb\n",
    "!git config --global user.name \"phtcosta\"\n",
    "!git config --global user.email \"phtcosta@gmail.com\"\n",
    "\n",
    "# https://github.com/settings/tokens\n",
    "github_token = userdata.get('GITHUB_TOKEN')\n",
    "!git clone --branch develop https://{github_token}@github.com/PAMunb/rvsec.git\n",
    "\n",
    "%cd rvsec/rv-android/\n",
    "!pip install -q -r requirements.txt"
   ]
  },
  {
   "cell_type": "code",
   "execution_count": null,
   "id": "350daa55",
   "metadata": {},
   "outputs": [],
   "source": [
    "!pwd"
   ]
  },
  {
   "cell_type": "code",
   "execution_count": null,
   "id": "1d103152",
   "metadata": {},
   "outputs": [],
   "source": [
    "# Mount google drive\n",
    "drive.mount(\"/content/drive\")"
   ]
  },
  {
   "cell_type": "code",
   "execution_count": null,
   "id": "0ac75c77",
   "metadata": {},
   "outputs": [],
   "source": [
    "!git status"
   ]
  },
  {
   "cell_type": "code",
   "execution_count": null,
   "id": "c3f5910a",
   "metadata": {},
   "outputs": [],
   "source": [
    "# drive.flush_and_unmount()\n",
    "!git add --all\n",
    "!git commit -a -m \"Just testing\"\n",
    "# !git remote -v"
   ]
  },
  {
   "cell_type": "markdown",
   "id": "1ec0e0b6",
   "metadata": {},
   "source": [
    "#  Experiments"
   ]
  },
  {
   "cell_type": "code",
   "execution_count": 1,
   "id": "ee597936-75ee-46e9-af77-619510275aa7",
   "metadata": {},
   "outputs": [],
   "source": [
    "# Imports\n",
    "\n",
    "from dotenv import load_dotenv\n",
    "from IPython.display import Markdown, display, update_display #, Image\n",
    "import gradio as gr\n",
    "from PIL import Image\n",
    "import numpy as np\n",
    "import os\n",
    "import glob\n",
    "from huggingface_hub import login\n",
    "from transformers import AutoTokenizer, AutoModelForCausalLM, TextStreamer, BitsAndBytesConfig\n",
    "import torch\n",
    "from transformers import pipeline, AutoModelForSpeechSeq2Seq, AutoProcessor, WhisperConfig, WhisperForConditionalGeneration\n",
    "\n",
    "from rvandroid.llm.huggingface import HuggingFaceLLM"
   ]
  },
  {
   "cell_type": "code",
   "execution_count": 2,
   "id": "41ff3eb5",
   "metadata": {},
   "outputs": [],
   "source": [
    "# Constants\n",
    "\n",
    "LLAMA = \"meta-llama/Meta-Llama-3.1-8B-Instruct\" # needs permission\n",
    "QWEN = \"Qwen/Qwen2.5-3B-Instruct\" # \"Qwen/Qwen2.5-0.5B-Instruct\" # \"Qwen/Qwen2.5-3B-Instruct\" # \"Qwen/Qwen2.5-3B\" # \"Qwen/Qwen2.5-VL-7B-Instruct\" \"Qwen/Qwen2-7B-Instruct\"\n",
    "# PHI2 = \"microsoft/phi-2\"\n",
    "PHI3 = \"microsoft/Phi-3-mini-4k-instruct\" \n",
    "PHI3_5=\"microsoft/Phi-3.5-mini-instruct\" \n",
    "GEMMA2 = \"google/gemma-2-2b-it\" # needs permission: https://huggingface.co/google/gemma-2-2b-it\n",
    "STARCODER2 = \"bigcode/starcoder2-3b\"\n",
    "FALCON= \"tiiuae/Falcon3-3B-Instruct\" # tiiuae/Falcon3-7B-Instruct # https://falconllm.tii.ae/\n",
    "GRANITE = \"ibm-granite/granite-3.1-8b-instruct\"\n",
    "DEEPSEEK = \"deepseek-ai/DeepSeek-R1-Distill-Qwen-7B\" # \"deepseek-ai/deepseek-llm-7b-chat\"\n",
    "\n",
    "DEFAULT_MODEL = LLAMA\n",
    "MODELS = [LLAMA, QWEN, PHI3, PHI3_5, GEMMA2, STARCODER2, FALCON, GRANITE]"
   ]
  },
  {
   "cell_type": "code",
   "execution_count": 3,
   "id": "0f20219f",
   "metadata": {},
   "outputs": [
    {
     "name": "stderr",
     "output_type": "stream",
     "text": [
      "Note: Environment variable`HF_TOKEN` is set and is the current active token independently from the token you've just configured.\n",
      "2025-02-10 10:19:49,065 - WARNING - huggingface_hub._login - Note: Environment variable`HF_TOKEN` is set and is the current active token independently from the token you've just configured.\n"
     ]
    }
   ],
   "source": [
    "# Log in HF\n",
    "\n",
    "load_dotenv(override=True)\n",
    "\n",
    "hf_token = os.getenv('HF_TOKEN')\n",
    "login(hf_token) #, add_to_git_credential=True)"
   ]
  },
  {
   "cell_type": "code",
   "execution_count": null,
   "id": "50439597",
   "metadata": {},
   "outputs": [],
   "source": [
    "# download models\n",
    "messages = [\n",
    "    {\"role\": \"system\", \"content\": \"You are a helpful assistant\"},\n",
    "    {\"role\": \"user\", \"content\": \"Tell a light-hearted joke for a room of Data Scientists\"}\n",
    "  ]\n",
    "\n",
    "MODELS = [\"deepseek-ai/DeepSeek-R1-Distill-Qwen-7B\", \"deepseek-ai/deepseek-llm-7b-chat\"]\n",
    "for model in MODELS:\n",
    "    print(f\"MODEL={model}\")\n",
    "    hf = HuggingFaceLLM(model)\n",
    "    print(hf.generate(messages))\n",
    "    hf.clean()"
   ]
  },
  {
   "cell_type": "code",
   "execution_count": null,
   "id": "c4ffc12e",
   "metadata": {},
   "outputs": [],
   "source": []
  },
  {
   "cell_type": "code",
   "execution_count": null,
   "id": "5fdcd904-bb28-45ce-8ef0-e76fe18115f1",
   "metadata": {},
   "outputs": [],
   "source": [
    "# Text Generation\n",
    "def text_generation_hf_pipeline(messages: list[str], model=QWEN):\n",
    "  chat = pipeline(\"text-generation\", model=model) #, device=\"cuda\")\n",
    "  return chat(messages)"
   ]
  },
  {
   "cell_type": "code",
   "execution_count": null,
   "id": "08c389d9",
   "metadata": {},
   "outputs": [],
   "source": [
    "if torch.cuda.is_available():\n",
    "    print(\"GPU está disponível\")\n",
    "    # device = torch.device(\"cuda\")  # Define o dispositivo como GPU\n",
    "else:\n",
    "    print(\"GPU não está disponível\")\n",
    "    # device = torch.device(\"cpu\")  # Define o dispositivo como CPU"
   ]
  },
  {
   "cell_type": "code",
   "execution_count": null,
   "id": "3b41dcfb",
   "metadata": {},
   "outputs": [],
   "source": [
    "torch.cuda.empty_cache() "
   ]
  },
  {
   "cell_type": "code",
   "execution_count": null,
   "id": "7790a12c",
   "metadata": {},
   "outputs": [],
   "source": []
  },
  {
   "cell_type": "markdown",
   "id": "4366ec6a",
   "metadata": {},
   "source": [
    "## Static Analysis"
   ]
  },
  {
   "cell_type": "code",
   "execution_count": 4,
   "id": "92f77b22",
   "metadata": {},
   "outputs": [],
   "source": [
    "static_folder = \"/home/pedro/desenvolvimento/workspaces/workspaces-doutorado/workspace-rv/rvsec/rv-android/out\"\n",
    "\n",
    "def read_text_file(file_path):\n",
    "    with open(file_path, 'r') as file:\n",
    "        text = file.read()\n",
    "    return text\n",
    "\n",
    "def read_files_by_extension(folder: str, extension: str = \"*.gesda\"):\n",
    "    files = glob.glob(os.path.join(static_folder, extension))\n",
    "    for file in files:\n",
    "      text = read_text_file(file)\n",
    "      yield file, text"
   ]
  },
  {
   "cell_type": "markdown",
   "id": "076dcd9b",
   "metadata": {},
   "source": [
    "### GESDA"
   ]
  },
  {
   "cell_type": "code",
   "execution_count": 5,
   "id": "452e3039",
   "metadata": {},
   "outputs": [],
   "source": [
    "base_system_msg = \"\"\"You are an expert assistant in testing the interface of Android applications, and you use this knowledge to make useful summaries about the components (activities, windows, widgets) contained on the screen. Some widgets may have information about which method will be called when it is clicked, others may have information about the assignment of this widget to a field declared in the class, listing all those that are relevant in the context of interface testing, and suggesting the possible actions on this component (click, set text, select item). The information about the application that must be understood is contained in a string in json format, which will be passed to you.\n",
    "\"\"\"\n",
    "base_prompt = \"Make a summary of the application 'cryptoapp' which has the following information in json format: {}\"\n",
    "\n",
    "def create_messages(system_msg: str, prompt: str, json_text: str) -> list[dict[str, str]]:\n",
    "    messages=[\n",
    "        {\"role\": \"system\", \"content\": system_msg },\n",
    "        {\"role\": \"user\", \"content\": prompt.format(json_text)}\n",
    "    ]\n",
    "    return messages\n"
   ]
  },
  {
   "cell_type": "code",
   "execution_count": null,
   "id": "d91d9062",
   "metadata": {},
   "outputs": [
    {
     "name": "stderr",
     "output_type": "stream",
     "text": [
      "2025-02-10 10:20:06,040 - INFO - rvandroid.llm.huggingface - Loading tokenizer for meta-llama/Meta-Llama-3.1-8B-Instruct...\n"
     ]
    },
    {
     "name": "stdout",
     "output_type": "stream",
     "text": [
      "Generating ...\n"
     ]
    },
    {
     "data": {
      "application/vnd.jupyter.widget-view+json": {
       "model_id": "35684eeb110e41ac98cd0e0b776b8c8f",
       "version_major": 2,
       "version_minor": 0
      },
      "text/plain": [
       "tokenizer_config.json:   0%|          | 0.00/55.4k [00:00<?, ?B/s]"
      ]
     },
     "metadata": {},
     "output_type": "display_data"
    },
    {
     "data": {
      "application/vnd.jupyter.widget-view+json": {
       "model_id": "ee8d479a33f040049fddb1ca7fe9bdc4",
       "version_major": 2,
       "version_minor": 0
      },
      "text/plain": [
       "tokenizer.json:   0%|          | 0.00/9.09M [00:00<?, ?B/s]"
      ]
     },
     "metadata": {},
     "output_type": "display_data"
    },
    {
     "data": {
      "application/vnd.jupyter.widget-view+json": {
       "model_id": "fb8bfcd4b8cd4a2987a8ba8597e68c3b",
       "version_major": 2,
       "version_minor": 0
      },
      "text/plain": [
       "special_tokens_map.json:   0%|          | 0.00/296 [00:00<?, ?B/s]"
      ]
     },
     "metadata": {},
     "output_type": "display_data"
    },
    {
     "name": "stderr",
     "output_type": "stream",
     "text": [
      "2025-02-10 10:20:10,568 - INFO - rvandroid.llm.huggingface - Loading model meta-llama/Meta-Llama-3.1-8B-Instruct on cuda...\n"
     ]
    },
    {
     "data": {
      "application/vnd.jupyter.widget-view+json": {
       "model_id": "4ba8ac980d6f487a9b410663ffbf24c4",
       "version_major": 2,
       "version_minor": 0
      },
      "text/plain": [
       "config.json:   0%|          | 0.00/855 [00:00<?, ?B/s]"
      ]
     },
     "metadata": {},
     "output_type": "display_data"
    },
    {
     "data": {
      "application/vnd.jupyter.widget-view+json": {
       "model_id": "3f5665074ee4460ca268a96ed9ce05ae",
       "version_major": 2,
       "version_minor": 0
      },
      "text/plain": [
       "model.safetensors.index.json:   0%|          | 0.00/23.9k [00:00<?, ?B/s]"
      ]
     },
     "metadata": {},
     "output_type": "display_data"
    },
    {
     "data": {
      "application/vnd.jupyter.widget-view+json": {
       "model_id": "297a6198a5c840ddb2c3567ed3696fc3",
       "version_major": 2,
       "version_minor": 0
      },
      "text/plain": [
       "Downloading shards:   0%|          | 0/4 [00:00<?, ?it/s]"
      ]
     },
     "metadata": {},
     "output_type": "display_data"
    },
    {
     "data": {
      "application/vnd.jupyter.widget-view+json": {
       "model_id": "c0e3c8dd930342a28abf9300ccce0d6f",
       "version_major": 2,
       "version_minor": 0
      },
      "text/plain": [
       "model-00001-of-00004.safetensors:   0%|          | 0.00/4.98G [00:00<?, ?B/s]"
      ]
     },
     "metadata": {},
     "output_type": "display_data"
    },
    {
     "data": {
      "application/vnd.jupyter.widget-view+json": {
       "model_id": "01c8784a9100482a9a8b179afc388689",
       "version_major": 2,
       "version_minor": 0
      },
      "text/plain": [
       "model-00002-of-00004.safetensors:   0%|          | 0.00/5.00G [00:00<?, ?B/s]"
      ]
     },
     "metadata": {},
     "output_type": "display_data"
    },
    {
     "data": {
      "application/vnd.jupyter.widget-view+json": {
       "model_id": "ab47e8b66b5d46a385a208b5906cb321",
       "version_major": 2,
       "version_minor": 0
      },
      "text/plain": [
       "model-00003-of-00004.safetensors:   0%|          | 0.00/4.92G [00:00<?, ?B/s]"
      ]
     },
     "metadata": {},
     "output_type": "display_data"
    },
    {
     "data": {
      "application/vnd.jupyter.widget-view+json": {
       "model_id": "b1fee96c06f44bf88278fdb366026043",
       "version_major": 2,
       "version_minor": 0
      },
      "text/plain": [
       "model-00004-of-00004.safetensors:   0%|          | 0.00/1.17G [00:00<?, ?B/s]"
      ]
     },
     "metadata": {},
     "output_type": "display_data"
    },
    {
     "data": {
      "application/vnd.jupyter.widget-view+json": {
       "model_id": "d8ad46aa31574a91be5d05528f34d18c",
       "version_major": 2,
       "version_minor": 0
      },
      "text/plain": [
       "Loading checkpoint shards:   0%|          | 0/4 [00:00<?, ?it/s]"
      ]
     },
     "metadata": {},
     "output_type": "display_data"
    },
    {
     "data": {
      "application/vnd.jupyter.widget-view+json": {
       "model_id": "251a9eb5347c4b85be4a26418d3d434e",
       "version_major": 2,
       "version_minor": 0
      },
      "text/plain": [
       "generation_config.json:   0%|          | 0.00/184 [00:00<?, ?B/s]"
      ]
     },
     "metadata": {},
     "output_type": "display_data"
    },
    {
     "name": "stderr",
     "output_type": "stream",
     "text": [
      "The attention mask and the pad token id were not set. As a consequence, you may observe unexpected behavior. Please pass your input's `attention_mask` to obtain reliable results.\n",
      "Setting `pad_token_id` to `eos_token_id`:128001 for open-end generation.\n",
      "The attention mask is not set and cannot be inferred from input because pad token is same as eos token. As a consequence, you may observe unexpected behavior. Please pass your input's `attention_mask` to obtain reliable results.\n",
      "2025-02-10 10:44:20,350 - INFO - rvandroid.llm.huggingface - Model and tokenizer unloaded, CUDA cache cleared.\n"
     ]
    },
    {
     "name": "stdout",
     "output_type": "stream",
     "text": [
      "system\n",
      "\n",
      "Cutting Knowledge Date: December 2023\n",
      "Today Date: 26 Jul 2024\n",
      "\n",
      "You are an expert assistant in testing the interface of Android applications, and you use this knowledge to make useful summaries about the components (activities, windows, widgets) contained on the screen. Some widgets may have information about which method will be called when it is clicked, others may have information about the assignment of this widget to a field declared in the class, listing all those that are relevant in the context of interface testing, and suggesting the possible actions on this component (click, set text, select item). The information about the application that must be understood is contained in a string in json format, which will be passed to you.user\n",
      "\n",
      "Make a summary of the application 'cryptoapp' which has the following information in json format: {\"fileName\":\"cryptoapp.apk\",\"packageName\":\"br.unb.cic.cryptoapp\",\"windows\":[{\"id\":1,\"name\":\"br.unb.cic.cryptoapp.cipher.CipherActivity\",\"isMain\":false,\"layoutFileName\":\"activity_cipher\",\"type\":\"ACT\",\"widgets\":[{\"widgetId\":\"2131296709\",\"type\":\"TEXT_VIEW\",\"name\":\"textViewCypherEncryptResult\",\"field\":\"\\u003cbr.unb.cic.cryptoapp.cipher.CipherActivity: android.widget.TextView textViewEncryptResult\\u003e\"},{\"widgetId\":\"2131296354\",\"type\":\"BUTTON\",\"name\":\"btn_cipher_encrypt\",\"field\":\"\\u003cbr.unb.cic.cryptoapp.cipher.CipherActivity: android.widget.Button btnEncrypt\\u003e\",\"listeners\":[{\"type\":\"OnClickListener\",\"callbackMethod\":{\"name\":\"onClick\",\"className\":\"br.unb.cic.cryptoapp.cipher.CipherActivity$1\",\"signature\":\"\\u003cbr.unb.cic.cryptoapp.cipher.CipherActivity$1: void onClick(android.view.View)\\u003e\",\"modifiers\":1},\"registeredInFile\":false}]},{\"widgetId\":\"2131296437\",\"type\":\"EDIT_TEXT\",\"name\":\"editTextCipherEncrypt\",\"field\":\"\\u003cbr.unb.cic.cryptoapp.cipher.CipherActivity: android.widget.EditText editTextEncrypt\\u003e\",\"hint\":\"Input text...\",\"inputType\":\"textPersonName\"},{\"widgetId\":\"2131296379\",\"type\":\"TEXT_VIEW\",\"name\":\"cipherTextView\"}]},{\"id\":2,\"name\":\"br.unb.cic.cryptoapp.MainActivity\",\"isMain\":true,\"layoutFileName\":\"activity_main\",\"type\":\"ACT\",\"widgets\":[{\"widgetId\":\"2131296355\",\"type\":\"BUTTON\",\"name\":\"buttonCipher\",\"listeners\":[{\"type\":\"OnClickListener\",\"callbackMethod\":{\"name\":\"showScreenCipher\",\"className\":\"br.unb.cic.cryptoapp.MainActivity\",\"signature\":\"\\u003cbr.unb.cic.cryptoapp.MainActivity: void showScreenCipher(android.view.View)\\u003e\",\"modifiers\":1},\"registeredInFile\":true}],\"text\":\"Cipher\"},{\"widgetId\":\"2131296357\",\"type\":\"BUTTON\",\"name\":\"buttonMessageDigest\",\"listeners\":[{\"type\":\"OnClickListener\",\"callbackMethod\":{\"name\":\"showScreenMessageDigest\",\"className\":\"br.unb.cic.cryptoapp.MainActivity\",\"signature\":\"\\u003cbr.unb.cic.cryptoapp.MainActivity: void showScreenMessageDigest(android.view.View)\\u003e\",\"modifiers\":1},\"registeredInFile\":true}]}],\"optionsMenu\":{\"id\":3,\"name\":\"br.unb.cic.cryptoapp.MainActivity\",\"isMain\":false,\"type\":\"OPTIONSMENU\",\"widgets\":[{\"widgetId\":\"2131296535\",\"type\":\"MENU_ITEM\",\"name\":\"menu_item_home\",\"listeners\":[{\"type\":\"OnClickListener\",\"callbackMethod\":{\"name\":\"showHome\",\"className\":\"br.unb.cic.cryptoapp.MainActivity\",\"signature\":\"\\u003cbr.unb.cic.cryptoapp.MainActivity: void showHome(android.view.MenuItem)\\u003e\",\"modifiers\":1},\"registeredInFile\":true}],\"text\":\"Cipher\",\"entries\":[],\"items\":[]},{\"widgetId\":\"2131296536\",\"type\":\"MENU_ITEM\",\"name\":\"menu_item_message_digest\",\"listeners\":[{\"type\":\"OnMenuItemClickListener\",\"callbackMethod\":{\"name\":\"onMenuItemClick\",\"className\":\"br.unb.cic.cryptoapp.MainActivity$1\",\"signature\":\"\\u003cbr.unb.cic.cryptoapp.MainActivity$1: boolean onMenuItemClick(android.view.MenuItem)\\u003e\",\"modifiers\":1},\"registeredInFile\":false}],\"text\":\"Message Digest\",\"entries\":[],\"items\":[]},{\"widgetId\":\"2131296534\",\"type\":\"MENU_ITEM\",\"name\":\"menu_item_cipher\",\"listeners\":[],\"text\":\"Cipher\",\"entries\":[],\"items\":[]}]}},{\"id\":4,\"name\":\"br.unb.cic.cryptoapp.messagedigest.MessageDigestActivity\",\"isMain\":false,\"layoutFileName\":\"activity_message_digest\",\"type\":\"ACT\",\"widgets\":[{\"widgetId\":\"2131296708\",\"type\":\"TEXT_VIEW\",\"name\":\"textView\"},{\"widgetId\":\"2131296661\",\"type\":\"SPINNER\",\"name\":\"spinnerMessageDigest\",\"field\":\"\\u003cbr.unb.cic.cryptoapp.messagedigest.MessageDigestActivity: android.widget.Spinner spinnerAlgorithm\\u003e\",\"entries\":[\"Select\",\"MD2\",\"MD5\",\"SHA-1\",\"SHA-224\",\"SHA-256\",\"SHA-384\",\"SHA-512/224\",\"SHA-512/256\",\"SHA3-224\",\"SHA3-256\",\"SHA3-384\",\"SHA3-512\"]},{\"widgetId\":\"2131296438\",\"type\":\"EDIT_TEXT\",\"name\":\"editTextMessageDigest\",\"field\":\"\\u003cbr.unb.cic.cryptoapp.messagedigest.MessageDigestActivity: android.widget.EditText editTextInput\\u003e\",\"hint\":\"Input text...\",\"inputType\":\"textPersonName\"},{\"widgetId\":\"2131296710\",\"type\":\"TEXT_VIEW\",\"name\":\"textViewMessageDigestResult\",\"field\":\"\\u003cbr.unb.cic.cryptoapp.messagedigest.MessageDigestActivity: android.widget.TextView textViewResult\\u003e\"},{\"widgetId\":\"2131296356\",\"type\":\"BUTTON\",\"name\":\"buttonGenerateHash\",\"listeners\":[{\"type\":\"OnClickListener\",\"callbackMethod\":{\"name\":\"generateHash\",\"className\":\"br.unb.cic.cryptoapp.messagedigest.MessageDigestActivity\",\"signature\":\"\\u003cbr.unb.cic.cryptoapp.messagedigest.MessageDigestActivity: void generateHash(android.view.View)\\u003e\",\"modifiers\":1},\"registeredInFile\":true}]}]}]}assistant\n",
      "\n",
      "**CryptoApp Interface Summary**\n",
      "\n",
      "The CryptoApp has three main activities: `CipherActivity`, `MainActivity`, and `MessageDigestActivity`. Each activity has its own layout and widgets.\n",
      "\n",
      "### CipherActivity\n",
      "\n",
      "*   **Widgets:**\n",
      "    *   `textViewCypherEncryptResult`: A text view that displays the result of encryption.\n",
      "    *   `btn_cipher_encrypt`: A button that triggers the encryption process.\n",
      "    *   `editTextCipherEncrypt`: An edit text field that accepts user input for encryption.\n",
      "    *   `cipherTextView`: A text view that displays the encrypted text.\n",
      "*   **Listeners:**\n",
      "    *   `btn_cipher_encrypt` has an `OnClickListener` that calls the `onClick` method in `CipherActivity$1` when clicked.\n",
      "\n",
      "### MainActivity\n",
      "\n",
      "*   **Widgets:**\n",
      "    *   `buttonCipher`: A button that shows the Cipher screen.\n",
      "    *   `buttonMessageDigest`: A button that shows the Message Digest screen.\n",
      "*   **Listeners:**\n",
      "    *   `buttonCipher` has an `OnClickListener` that calls the `showScreenCipher` method in `MainActivity` when clicked.\n",
      "    *   `buttonMessageDigest` has an `OnClickListener` that calls the `showScreenMessageDigest` method in `MainActivity` when clicked.\n",
      "\n",
      "### MessageDigestActivity\n",
      "\n",
      "*   **Widgets:**\n",
      "    *   `textView`: A text view that displays the result of message digest.\n",
      "    *   `spinnerMessageDigest`: A spinner that selects the message digest algorithm.\n",
      "    *   `editTextMessageDigest`: An edit text field that accepts user input for message digest.\n",
      "    *   `textViewMessageDigestResult`: A text view that displays the result of message digest.\n",
      "    *   `buttonGenerateHash`: A button that triggers the message digest process.\n",
      "*   **Listeners:**\n",
      "    *   `buttonGenerateHash` has an `OnClickListener` that calls the `generateHash` method in `MessageDigestActivity` when clicked.\n",
      "\n",
      "### Options Menu\n",
      "\n",
      "*   **Menu Items:**\n",
      "    *   `menu_item_home`: A menu item that shows the home screen.\n",
      "    *   `menu_item_message_digest`: A menu item that shows the Message Digest screen.\n",
      "    *   `menu_item_cipher`: A menu item that shows the Cipher screen.\n",
      "*   **Listeners:**\n",
      "    *   `menu_item_home` has an `OnClickListener` that calls the `showHome` method in `MainActivity` when clicked.\n",
      "    *   `menu_item_message_digest` has an `OnMenuItemClickListener` that calls the `onMenuItemClick` method in `MainActivity$1` when clicked.\n",
      "\n",
      "**Possible Actions:**\n",
      "\n",
      "1.  Click on the `btn_cipher_encrypt` button to trigger the encryption process.\n",
      "2.  Set the text in the `editTextCipherEncrypt` field to input text for encryption.\n",
      "3.  Select an item from the `spinnerMessageDigest` spinner to select the message digest algorithm.\n",
      "4.  Click on the `buttonGenerateHash` button to trigger the message digest process.\n",
      "5.  Select an item from the `spinnerMessageDigest` spinner to select the message digest algorithm.\n",
      "6.  Click on the `menu_item_home` menu item to show the home screen.\n",
      "7.  Click on the `menu_item_message_digest` menu item to show the Message Digest screen.\n",
      "8.  Click on the `menu_item_cipher` menu item to show the Cipher screen.\n"
     ]
    }
   ],
   "source": [
    "# Basic example\n",
    "\n",
    "text = read_text_file(\"/home/pedro/desenvolvimento/workspaces/workspaces-doutorado/workspace-rv/rvsec/rv-android/out/cryptoapp.apk.gesda\")\n",
    "# print(text)\n",
    "messages=create_messages(base_system_msg, base_prompt, text)\n",
    "# print(messages)\n",
    "\n",
    "print(\"Generating ...\")\n",
    "\n",
    "hf = HuggingFaceLLM(LLAMA)\n",
    "response = hf.generate(messages)\n",
    "print(response)\n",
    "hf.clean()\n",
    "\n",
    "del hf"
   ]
  },
  {
   "cell_type": "code",
   "execution_count": null,
   "id": "d0fd9ad9",
   "metadata": {},
   "outputs": [
    {
     "name": "stdout",
     "output_type": "stream",
     "text": [
      "['/home/pedro/desenvolvimento/workspaces/workspaces-doutorado/workspace-rv/rvsec/rv-android/out/livio.rssreader_101.apk.gesda', '/home/pedro/desenvolvimento/workspaces/workspaces-doutorado/workspace-rv/rvsec/rv-android/out/org.passwordmaker.android_11.apk.gesda', '/home/pedro/desenvolvimento/workspaces/workspaces-doutorado/workspace-rv/rvsec/rv-android/out/com.github.axet.hourlyreminder_476.apk.gesda', '/home/pedro/desenvolvimento/workspaces/workspaces-doutorado/workspace-rv/rvsec/rv-android/out/com.gianlu.dnshero_40.apk.gesda', '/home/pedro/desenvolvimento/workspaces/workspaces-doutorado/workspace-rv/rvsec/rv-android/out/org.secuso.privacyfriendlydicer_8.apk.gesda', '/home/pedro/desenvolvimento/workspaces/workspaces-doutorado/workspace-rv/rvsec/rv-android/out/com.thibaudperso.sonycamera_24.apk.gesda', '/home/pedro/desenvolvimento/workspaces/workspaces-doutorado/workspace-rv/rvsec/rv-android/out/ee.ioc.phon.android.speak_1814.apk.gesda', '/home/pedro/desenvolvimento/workspaces/workspaces-doutorado/workspace-rv/rvsec/rv-android/out/cryptoapp.apk.gesda', '/home/pedro/desenvolvimento/workspaces/workspaces-doutorado/workspace-rv/rvsec/rv-android/out/byrne.utilities.hashpass_2.apk.gesda', '/home/pedro/desenvolvimento/workspaces/workspaces-doutorado/workspace-rv/rvsec/rv-android/out/info.zamojski.soft.towercollector_2140302.apk.gesda', '/home/pedro/desenvolvimento/workspaces/workspaces-doutorado/workspace-rv/rvsec/rv-android/out/org.emunix.insteadlauncher_80601.apk.gesda', '/home/pedro/desenvolvimento/workspaces/workspaces-doutorado/workspace-rv/rvsec/rv-android/out/com.hwloc.lstopo_271.apk.gesda', '/home/pedro/desenvolvimento/workspaces/workspaces-doutorado/workspace-rv/rvsec/rv-android/out/org.secuso.privacyfriendlyludo_5.apk.gesda', '/home/pedro/desenvolvimento/workspaces/workspaces-doutorado/workspace-rv/rvsec/rv-android/out/org.pulpdust.lesserpad_42.apk.gesda', '/home/pedro/desenvolvimento/workspaces/workspaces-doutorado/workspace-rv/rvsec/rv-android/out/ca.farrelltonsolar.classic_314.apk.gesda', '/home/pedro/desenvolvimento/workspaces/workspaces-doutorado/workspace-rv/rvsec/rv-android/out/com.example.openpass_1.apk.gesda']\n"
     ]
    },
    {
     "name": "stderr",
     "output_type": "stream",
     "text": [
      "2025-02-10 11:21:05,841 - INFO - httpx - HTTP Request: GET http://127.0.0.1:7883/gradio_api/startup-events \"HTTP/1.1 200 OK\"\n",
      "2025-02-10 11:21:05,851 - INFO - httpx - HTTP Request: HEAD http://127.0.0.1:7883/ \"HTTP/1.1 200 OK\"\n"
     ]
    },
    {
     "name": "stdout",
     "output_type": "stream",
     "text": [
      "* Running on local URL:  http://127.0.0.1:7883\n",
      "\n",
      "To create a public link, set `share=True` in `launch()`.\n"
     ]
    },
    {
     "data": {
      "text/html": [
       "<div><iframe src=\"http://127.0.0.1:7883/\" width=\"100%\" height=\"500\" allow=\"autoplay; camera; microphone; clipboard-read; clipboard-write;\" frameborder=\"0\" allowfullscreen></iframe></div>"
      ],
      "text/plain": [
       "<IPython.core.display.HTML object>"
      ]
     },
     "metadata": {},
     "output_type": "display_data"
    },
    {
     "data": {
      "text/plain": []
     },
     "execution_count": 35,
     "metadata": {},
     "output_type": "execute_result"
    },
    {
     "name": "stderr",
     "output_type": "stream",
     "text": [
      "2025-02-10 11:21:06,489 - INFO - httpx - HTTP Request: GET https://api.gradio.app/pkg-version \"HTTP/1.1 200 OK\"\n"
     ]
    }
   ],
   "source": [
    "# Local\n",
    "static_folder = \"/home/pedro/desenvolvimento/workspaces/workspaces-doutorado/workspace-rv/rvsec/rv-android/out\"\n",
    "# Google Colab\n",
    "# static_folder = \"/content/drive/MyDrive/llms/rvandroid/static\"\n",
    "\n",
    "\n",
    "def get_gesda_files(folder: str):\n",
    "    filenames = []\n",
    "    texts = []\n",
    "    for file, text in read_files_by_extension(\"*.gesda\"):\n",
    "      filenames.append(file)\n",
    "      texts.append(text)\n",
    "    return filenames, texts\n",
    "\n",
    "\n",
    "\n",
    "files, texts = get_gesda_files(static_folder)\n",
    "print(files)\n",
    "\n",
    "indice_atual = 0\n",
    "\n",
    "def get_system_prompt():\n",
    "   return base_system_msg\n",
    "\n",
    "def get_user_prompt():\n",
    "   return base_prompt\n",
    "\n",
    "def generate_output(system, prompt):\n",
    "  print(system)\n",
    "  create_messages(system, prompt, texts[indice_atual])\n",
    "  return \"Hello\"\n",
    "\n",
    "def mostrar_imagem(indice):\n",
    "    return files[indice]\n",
    "\n",
    "def processar_selecao(opcao):\n",
    "  return f\"Você selecionou: {opcao}\"\n",
    "\n",
    "def avancar_imagem():\n",
    "    \"\"\"Avança para a próxima imagem da lista.\"\"\"\n",
    "    global indice_atual\n",
    "    indice_atual = (indice_atual + 1) % len(files)  # Volta ao início se chegar ao fim da lista\n",
    "    return mostrar_imagem(indice_atual)\n",
    "\n",
    "def voltar_imagem():\n",
    "    \"\"\"Volta para a imagem anterior da lista.\"\"\"\n",
    "    global indice_atual\n",
    "    indice_atual = (indice_atual - 1) % len(files)  # Volta para o fim se chegar ao início da lista\n",
    "    return mostrar_imagem(indice_atual)\n",
    "\n",
    "def reset(system, prompt, result):\n",
    "  return base_system_msg, base_prompt, \"\"\n",
    "\n",
    "with gr.Blocks() as demo:\n",
    "    with gr.Row():\n",
    "      filename = gr.Textbox(label=\"GESDA file\", lines=1, value=mostrar_imagem(indice_atual))\n",
    "    \n",
    "    with gr.Row():\n",
    "      btn_previous = gr.Button(\"Previous\")\n",
    "      btn_next = gr.Button(\"Next\")\n",
    "    \n",
    "    with gr.Row():\n",
    "      system_textbox = gr.Textbox(label=\"System Prompt\", value=get_system_prompt()) #, lines=5)\n",
    "      prompt_textbox = gr.Textbox(label=\"User Prompt\", value=get_user_prompt()) #, lines=3)\n",
    "\n",
    "    # with gr.Row():\n",
    "    #   prompt_textbox = gr.Textbox(label=\"User Prompt\", value=get_user_prompt(), lines=3)\n",
    "\n",
    "    with gr.Row():        \n",
    "      dropdown = gr.Dropdown(\n",
    "        label=\"Select MODEL\",\n",
    "        choices=MODELS,         \n",
    "        value=DEFAULT_MODEL\n",
    "      )\n",
    "      with gr.Row():\n",
    "        btn_generate = gr.Button(\"Generate\")\n",
    "        btn_reset = gr.Button(\"Reset\")\n",
    "    \n",
    "    # with gr.Row():        \n",
    "    #   btn_generate = gr.Button(\"Generate\")\n",
    "        \n",
    "    with gr.Row():\n",
    "      result = gr.Textbox(lines=10)\n",
    "            \n",
    "    btn_previous.click(voltar_imagem, outputs=filename)\n",
    "    btn_next.click(avancar_imagem, outputs=filename)\n",
    "    dropdown.change(fn=processar_selecao, inputs=dropdown)\n",
    "    btn_generate.click(generate_output, inputs=[system_textbox, prompt_textbox], outputs=result)\n",
    "    btn_reset.click(reset, inputs=[system_textbox, prompt_textbox, result], outputs=[system_textbox, prompt_textbox, result])\n",
    "\n",
    "demo.launch()\n"
   ]
  },
  {
   "cell_type": "code",
   "execution_count": null,
   "id": "f06c0f53",
   "metadata": {},
   "outputs": [],
   "source": [
    "response = hf.generate(messages)\n",
    "print(response)"
   ]
  },
  {
   "cell_type": "code",
   "execution_count": null,
   "id": "08661938",
   "metadata": {},
   "outputs": [],
   "source": [
    "for r in result:\n",
    "    g = r[\"generated_text\"]\n",
    "    # print(g)\n",
    "    for x in g:\n",
    "        print(x)"
   ]
  },
  {
   "cell_type": "code",
   "execution_count": null,
   "id": "dc8bcb74",
   "metadata": {},
   "outputs": [],
   "source": [
    "\n",
    "\n",
    "\n",
    "# text = read_text_file(\"/home/pedro/desenvolvimento/workspaces/workspaces-doutorado/workspace-rv/rvsec/rv-android/out/cryptoapp.apk.gesda\")\n",
    "# print(text)\n",
    "# system_msg = \"\"\"You are an expert assistant in testing the interface of Android applications, and you use this knowledge to make useful summaries about the components (activities, windows, widgets) contained on the screen. Some widgets may have information about which method will be called when it is clicked, others may have information about the assignment of this widget to a field declared in the class, listing all those that are relevant in the context of interface testing, and suggesting the possible actions on this component (click, set text, select item). The information about the application that must be understood is contained in a string in json format, which will be passed to you.\n",
    "# \"\"\"\n",
    "# messages=[\n",
    "#   {\"role\": \"system\", \"content\": system_msg },\n",
    "#   {\"role\": \"user\", \"content\": f\"Make a summary of the application 'cryptoapp' which has the following information in json format: {text}\"}\n",
    "# ]\n",
    "# print(messages)\n",
    "# print(\"Consultando ...\")\n",
    "\n",
    "\n",
    "# from rvandroid.llm.huggingface import HuggingFace\n",
    "# hf = HuggingFace(LLAMA)\n",
    "\n",
    "# response = hf.generate(messages)\n",
    "# print(response)\n",
    "\n",
    "\n",
    "# # #sudo apt install nvidia-cuda-toolkit\n",
    "# # #nvcc --version\n",
    "\n",
    "# # quant_config = BitsAndBytesConfig(\n",
    "# #     load_in_4bit=True,\n",
    "# #     bnb_4bit_use_double_quant=True,\n",
    "# #     bnb_4bit_compute_dtype=torch.bfloat16,\n",
    "# #     bnb_4bit_quant_type=\"nf4\"\n",
    "# # )\n",
    "\n",
    "# # tokenizer = AutoTokenizer.from_pretrained(LLAMA)\n",
    "# # tokenizer.pad_token = tokenizer.eos_token\n",
    "\n",
    "# # inputs = tokenizer.apply_chat_template(messages, return_tensors=\"pt\").to(\"cuda\")\n",
    "\n",
    "# # # streamer = TextStreamer(tokenizer)\n",
    "\n",
    "# # model = AutoModelForCausalLM.from_pretrained(LLAMA, device_map=\"auto\", quantization_config=quant_config)\n",
    "# # outputs = model.generate(inputs, max_new_tokens=2000) #, streamer=streamer)\n",
    "\n",
    "# # response = tokenizer.decode(outputs[0])\n",
    "# # print(response)\n",
    "\n",
    "# # del inputs, outputs, model\n",
    "# # torch.cuda.empty_cache()\n",
    "\n",
    "# # result = text_generation_hf_pipeline(messages, model=GEMMA2)\n",
    "# # print(result)\n",
    "\n",
    "\n"
   ]
  },
  {
   "cell_type": "markdown",
   "id": "2e6a66ac",
   "metadata": {},
   "source": [
    "## Tokenizer"
   ]
  },
  {
   "cell_type": "code",
   "execution_count": null,
   "id": "6bca00d0",
   "metadata": {},
   "outputs": [],
   "source": [
    "def create_prompt(messages: list[dict[str, str]], model=DEFAULT_MODEL):\n",
    "    pass"
   ]
  },
  {
   "cell_type": "code",
   "execution_count": null,
   "id": "69bcbd26",
   "metadata": {},
   "outputs": [],
   "source": [
    "# tokenizer = AutoTokenizer.from_pretrained('meta-llama/Meta-Llama-3.1-8B', trust_remote_code=True)\n",
    "tokenizer = AutoTokenizer.from_pretrained('meta-llama/Meta-Llama-3.1-8B-Instruct', trust_remote_code=True)\n",
    "\n",
    "text = \"I am excited to show Tokenizers in action to my LLM engineers\"\n",
    "tokens = tokenizer.encode(text)\n",
    "tokens\n",
    "tokenizer.decode(tokens)\n",
    "tokenizer.batch_decode(tokens)\n",
    "tokenizer.get_added_vocab()\n",
    "\n",
    "\n",
    "messages = [\n",
    "    {\"role\": \"system\", \"content\": \"You are a helpful assistant\"},\n",
    "    {\"role\": \"user\", \"content\": \"Tell a light-hearted joke for a room of Data Scientists\"}\n",
    "  ]\n",
    "\n",
    "prompt = tokenizer.apply_chat_template(messages, tokenize=False, add_generation_prompt=True)\n",
    "print(prompt)"
   ]
  },
  {
   "cell_type": "markdown",
   "id": "eba28319",
   "metadata": {},
   "source": []
  },
  {
   "cell_type": "code",
   "execution_count": null,
   "id": "91f116cc",
   "metadata": {},
   "outputs": [],
   "source": []
  },
  {
   "cell_type": "code",
   "execution_count": null,
   "id": "ff5a6c49",
   "metadata": {},
   "outputs": [],
   "source": [
    "messages = [\n",
    "    {\"role\": \"system\", \"content\": \"You are a helpful assistant\"},\n",
    "    {\"role\": \"user\", \"content\": \"Tell a light-hearted joke for a room of Data Scientists\"}\n",
    "  ]\n",
    "\n",
    "# Quantization Config - this allows us to load the model into memory and use less memory\n",
    "quant_config = BitsAndBytesConfig(\n",
    "    load_in_4bit=True,\n",
    "    bnb_4bit_use_double_quant=True,\n",
    "    bnb_4bit_compute_dtype=torch.bfloat16,\n",
    "    bnb_4bit_quant_type=\"nf4\"\n",
    ")\n",
    "\n",
    "# Tokenizer\n",
    "tokenizer = AutoTokenizer.from_pretrained(DEFAULT_MODEL)\n",
    "tokenizer.pad_token = tokenizer.eos_token\n",
    "inputs = tokenizer.apply_chat_template(messages, return_tensors=\"pt\").to(\"cuda\")\n",
    "\n",
    "# The model\n",
    "model = AutoModelForCausalLM.from_pretrained(DEFAULT_MODEL, device_map=\"auto\", quantization_config=quant_config)"
   ]
  },
  {
   "cell_type": "code",
   "execution_count": null,
   "id": "d775562a",
   "metadata": {},
   "outputs": [],
   "source": [
    "memory = model.get_memory_footprint() / 1e6\n",
    "print(f\"Memory footprint: {memory:,.1f} MB\")"
   ]
  },
  {
   "cell_type": "code",
   "execution_count": null,
   "id": "6ca7a0e0",
   "metadata": {},
   "outputs": [],
   "source": [
    "model"
   ]
  },
  {
   "cell_type": "code",
   "execution_count": null,
   "id": "5305238c",
   "metadata": {},
   "outputs": [],
   "source": [
    "outputs = model.generate(inputs, max_new_tokens=80)\n",
    "print(tokenizer.decode(outputs[0]))"
   ]
  },
  {
   "cell_type": "code",
   "execution_count": null,
   "id": "a224c430",
   "metadata": {},
   "outputs": [],
   "source": [
    "# Clean up\n",
    "del inputs, outputs, model\n",
    "torch.cuda.empty_cache()"
   ]
  },
  {
   "cell_type": "code",
   "execution_count": null,
   "id": "f7175805",
   "metadata": {},
   "outputs": [],
   "source": [
    "# "
   ]
  }
 ],
 "metadata": {
  "kernelspec": {
   "display_name": "venv_rvandroid",
   "language": "python",
   "name": "python3"
  },
  "language_info": {
   "codemirror_mode": {
    "name": "ipython",
    "version": 3
   },
   "file_extension": ".py",
   "mimetype": "text/x-python",
   "name": "python",
   "nbconvert_exporter": "python",
   "pygments_lexer": "ipython3",
   "version": "3.12.3"
  }
 },
 "nbformat": 4,
 "nbformat_minor": 5
}
